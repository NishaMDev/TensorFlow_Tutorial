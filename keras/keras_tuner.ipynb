{
  "cells": [
    {
      "cell_type": "markdown",
      "metadata": {
        "id": "Tce3stUlHN0L"
      },
      "source": [
        "##### Copyright 2020 The TensorFlow Authors."
      ]
    },
    {
      "cell_type": "code",
      "execution_count": 1,
      "metadata": {
        "cellView": "form",
        "id": "tuOe1ymfHZPu"
      },
      "outputs": [],
      "source": [
        "#@title Licensed under the Apache License, Version 2.0 (the \"License\");\n",
        "# you may not use this file except in compliance with the License.\n",
        "# You may obtain a copy of the License at\n",
        "#\n",
        "# https://www.apache.org/licenses/LICENSE-2.0\n",
        "#\n",
        "# Unless required by applicable law or agreed to in writing, software\n",
        "# distributed under the License is distributed on an \"AS IS\" BASIS,\n",
        "# WITHOUT WARRANTIES OR CONDITIONS OF ANY KIND, either express or implied.\n",
        "# See the License for the specific language governing permissions and\n",
        "# limitations under the License."
      ]
    },
    {
      "cell_type": "markdown",
      "metadata": {
        "id": "qFdPvlXBOdUN"
      },
      "source": [
        "# Introduction to the Keras Tuner"
      ]
    },
    {
      "cell_type": "markdown",
      "metadata": {
        "id": "MfBg1C5NB3X0"
      },
      "source": [
        "<table class=\"tfo-notebook-buttons\" align=\"left\">\n",
        "  <td>\n",
        "    <a target=\"_blank\" href=\"https://www.tensorflow.org/tutorials/keras/keras_tuner\"><img src=\"https://www.tensorflow.org/images/tf_logo_32px.png\" />View on TensorFlow.org</a>\n",
        "  </td>\n",
        "  <td>\n",
        "    <a target=\"_blank\" href=\"https://colab.research.google.com/github/tensorflow/docs/blob/master/site/en/tutorials/keras/keras_tuner.ipynb\"><img src=\"https://www.tensorflow.org/images/colab_logo_32px.png\" />Run in Google Colab</a>\n",
        "  </td>\n",
        "  <td>\n",
        "    <a target=\"_blank\" href=\"https://github.com/tensorflow/docs/blob/master/site/en/tutorials/keras/keras_tuner.ipynb\"><img src=\"https://www.tensorflow.org/images/GitHub-Mark-32px.png\" />View source on GitHub</a>\n",
        "  </td>\n",
        "  <td>\n",
        "    <a href=\"https://storage.googleapis.com/tensorflow_docs/docs/site/en/tutorials/keras/keras_tuner.ipynb\"><img src=\"https://www.tensorflow.org/images/download_logo_32px.png\" />Download notebook</a>\n",
        "  </td>\n",
        "</table>"
      ]
    },
    {
      "cell_type": "markdown",
      "metadata": {
        "id": "xHxb-dlhMIzW"
      },
      "source": [
        "## Overview\n",
        "\n",
        "The Keras Tuner is a library that helps you pick the optimal set of hyperparameters for your TensorFlow program. The process of selecting the right set of hyperparameters for your machine learning (ML) application is called *hyperparameter tuning* or *hypertuning*.\n",
        "\n",
        "Hyperparameters are the variables that govern the training process and the topology of an ML model. These variables remain constant over the training process and directly impact the performance of your ML program. Hyperparameters are of two types:\n",
        "1. **Model hyperparameters** which influence model selection such as the number and width of hidden layers\n",
        "2. **Algorithm hyperparameters** which influence the speed and quality of the learning algorithm such as the learning rate for Stochastic Gradient Descent (SGD) and the number of nearest neighbors for a k Nearest Neighbors (KNN) classifier\n",
        "\n",
        "In this tutorial, you will use the Keras Tuner to perform hypertuning for an image classification application."
      ]
    },
    {
      "cell_type": "markdown",
      "metadata": {
        "id": "MUXex9ctTuDB"
      },
      "source": [
        "## Setup"
      ]
    },
    {
      "cell_type": "code",
      "execution_count": 2,
      "metadata": {
        "id": "IqR2PQG4ZaZ0"
      },
      "outputs": [],
      "source": [
        "import tensorflow as tf\n",
        "from tensorflow import keras"
      ]
    },
    {
      "cell_type": "markdown",
      "metadata": {
        "id": "g83Lwsy-Aq2_"
      },
      "source": [
        "Install and import the Keras Tuner."
      ]
    },
    {
      "cell_type": "code",
      "execution_count": 3,
      "metadata": {
        "id": "hpMLpbt9jcO6",
        "outputId": "b10b41a9-e4f1-4ef6-a9f9-4672ba032f81",
        "colab": {
          "base_uri": "https://localhost:8080/"
        }
      },
      "outputs": [
        {
          "output_type": "stream",
          "name": "stdout",
          "text": [
            "\u001b[?25l\r\u001b[K     |██▌                             | 10 kB 24.0 MB/s eta 0:00:01\r\u001b[K     |█████                           | 20 kB 13.0 MB/s eta 0:00:01\r\u001b[K     |███████▍                        | 30 kB 9.8 MB/s eta 0:00:01\r\u001b[K     |█████████▉                      | 40 kB 8.5 MB/s eta 0:00:01\r\u001b[K     |████████████▎                   | 51 kB 4.8 MB/s eta 0:00:01\r\u001b[K     |██████████████▊                 | 61 kB 5.6 MB/s eta 0:00:01\r\u001b[K     |█████████████████▏              | 71 kB 5.6 MB/s eta 0:00:01\r\u001b[K     |███████████████████▋            | 81 kB 5.1 MB/s eta 0:00:01\r\u001b[K     |██████████████████████          | 92 kB 5.4 MB/s eta 0:00:01\r\u001b[K     |████████████████████████▌       | 102 kB 5.3 MB/s eta 0:00:01\r\u001b[K     |███████████████████████████     | 112 kB 5.3 MB/s eta 0:00:01\r\u001b[K     |█████████████████████████████▍  | 122 kB 5.3 MB/s eta 0:00:01\r\u001b[K     |███████████████████████████████▉| 133 kB 5.3 MB/s eta 0:00:01\r\u001b[K     |████████████████████████████████| 133 kB 5.3 MB/s \n",
            "\u001b[?25h"
          ]
        }
      ],
      "source": [
        "!pip install -q -U keras-tuner"
      ]
    },
    {
      "cell_type": "code",
      "execution_count": 4,
      "metadata": {
        "id": "_leAIdFKAxAD"
      },
      "outputs": [],
      "source": [
        "import keras_tuner as kt"
      ]
    },
    {
      "cell_type": "markdown",
      "metadata": {
        "id": "ReV_UXOgCZvx"
      },
      "source": [
        "## Download and prepare the dataset\n",
        "\n",
        "In this tutorial, you will use the Keras Tuner to find the best hyperparameters for a machine learning model that classifies images of clothing from the [Fashion MNIST dataset](https://github.com/zalandoresearch/fashion-mnist)."
      ]
    },
    {
      "cell_type": "markdown",
      "metadata": {
        "id": "HljH_ENLEdHa"
      },
      "source": [
        "Load the data."
      ]
    },
    {
      "cell_type": "code",
      "execution_count": 5,
      "metadata": {
        "id": "OHlHs9Wj_PUM",
        "outputId": "e91701db-9aeb-4c92-d16e-193ea4611551",
        "colab": {
          "base_uri": "https://localhost:8080/"
        }
      },
      "outputs": [
        {
          "output_type": "stream",
          "name": "stdout",
          "text": [
            "Downloading data from https://storage.googleapis.com/tensorflow/tf-keras-datasets/train-labels-idx1-ubyte.gz\n",
            "32768/29515 [=================================] - 0s 0us/step\n",
            "40960/29515 [=========================================] - 0s 0us/step\n",
            "Downloading data from https://storage.googleapis.com/tensorflow/tf-keras-datasets/train-images-idx3-ubyte.gz\n",
            "26427392/26421880 [==============================] - 0s 0us/step\n",
            "26435584/26421880 [==============================] - 0s 0us/step\n",
            "Downloading data from https://storage.googleapis.com/tensorflow/tf-keras-datasets/t10k-labels-idx1-ubyte.gz\n",
            "16384/5148 [===============================================================================================] - 0s 0us/step\n",
            "Downloading data from https://storage.googleapis.com/tensorflow/tf-keras-datasets/t10k-images-idx3-ubyte.gz\n",
            "4423680/4422102 [==============================] - 0s 0us/step\n",
            "4431872/4422102 [==============================] - 0s 0us/step\n"
          ]
        }
      ],
      "source": [
        "(img_train, label_train), (img_test, label_test) = keras.datasets.fashion_mnist.load_data()"
      ]
    },
    {
      "cell_type": "code",
      "execution_count": 6,
      "metadata": {
        "id": "bLVhXs3xrUD0"
      },
      "outputs": [],
      "source": [
        "# Normalize pixel values between 0 and 1\n",
        "img_train = img_train.astype('float32') / 255.0\n",
        "img_test = img_test.astype('float32') / 255.0"
      ]
    },
    {
      "cell_type": "markdown",
      "metadata": {
        "id": "K5YEL2H2Ax3e"
      },
      "source": [
        "## Define the model\n",
        "\n",
        "When you build a model for hypertuning, you also define the hyperparameter search space in addition to the model architecture. The model you set up for hypertuning is called a *hypermodel*.\n",
        "\n",
        "You can define a hypermodel through two approaches:\n",
        "\n",
        "* By using a model builder function\n",
        "* By subclassing the `HyperModel` class of the Keras Tuner API\n",
        "\n",
        "You can also use two pre-defined `HyperModel` classes - [HyperXception](https://keras-team.github.io/keras-tuner/documentation/hypermodels/#hyperxception-class) and [HyperResNet](https://keras-team.github.io/keras-tuner/documentation/hypermodels/#hyperresnet-class) for computer vision applications.\n",
        "\n",
        "In this tutorial, you use a model builder function to define the image classification model. The model builder function returns a compiled model and uses hyperparameters you define inline to hypertune the model."
      ]
    },
    {
      "cell_type": "code",
      "execution_count": 7,
      "metadata": {
        "id": "ZQKodC-jtsva"
      },
      "outputs": [],
      "source": [
        "def model_builder(hp):\n",
        "  model = keras.Sequential()\n",
        "  model.add(keras.layers.Flatten(input_shape=(28, 28)))\n",
        "\n",
        "  # Tune the number of units in the first Dense layer\n",
        "  # Choose an optimal value between 32-512\n",
        "  hp_units = hp.Int('units', min_value=32, max_value=512, step=32)\n",
        "  model.add(keras.layers.Dense(units=hp_units, activation='relu'))\n",
        "  model.add(keras.layers.Dense(10))\n",
        "\n",
        "  # Tune the learning rate for the optimizer\n",
        "  # Choose an optimal value from 0.01, 0.001, or 0.0001\n",
        "  hp_learning_rate = hp.Choice('learning_rate', values=[1e-2, 1e-3, 1e-4])\n",
        "\n",
        "  model.compile(optimizer=keras.optimizers.Adam(learning_rate=hp_learning_rate),\n",
        "                loss=keras.losses.SparseCategoricalCrossentropy(from_logits=True),\n",
        "                metrics=['accuracy'])\n",
        "\n",
        "  return model"
      ]
    },
    {
      "cell_type": "markdown",
      "metadata": {
        "id": "0J1VYw4q3x0b"
      },
      "source": [
        "## Instantiate the tuner and perform hypertuning\n",
        "\n",
        "Instantiate the tuner to perform the hypertuning. The Keras Tuner has four tuners available - `RandomSearch`, `Hyperband`, `BayesianOptimization`, and `Sklearn`. In this tutorial, you use the [Hyperband](https://arxiv.org/pdf/1603.06560.pdf) tuner.\n",
        "\n",
        "To instantiate the Hyperband tuner, you must specify the hypermodel, the `objective` to optimize and the maximum number of epochs to train (`max_epochs`)."
      ]
    },
    {
      "cell_type": "code",
      "execution_count": 8,
      "metadata": {
        "id": "oichQFly6Y46"
      },
      "outputs": [],
      "source": [
        "tuner = kt.Hyperband(model_builder,\n",
        "                     objective='val_accuracy',\n",
        "                     max_epochs=10,\n",
        "                     factor=3,\n",
        "                     directory='my_dir',\n",
        "                     project_name='intro_to_kt')"
      ]
    },
    {
      "cell_type": "markdown",
      "metadata": {
        "id": "VaIhhdKf9VtI"
      },
      "source": [
        "The Hyperband tuning algorithm uses adaptive resource allocation and early-stopping to quickly converge on a high-performing model. This is done using a sports championship style bracket. The algorithm trains a large number of models for a few epochs and carries forward only the top-performing half of models to the next round. Hyperband determines the number of models to train in a bracket by computing 1 + log<sub>`factor`</sub>(`max_epochs`) and rounding it up to the nearest integer."
      ]
    },
    {
      "cell_type": "markdown",
      "metadata": {
        "id": "cwhBdXx0Ekj8"
      },
      "source": [
        "Create a callback to stop training early after reaching a certain value for the validation loss."
      ]
    },
    {
      "cell_type": "code",
      "execution_count": 9,
      "metadata": {
        "id": "WT9IkS9NEjLc"
      },
      "outputs": [],
      "source": [
        "stop_early = tf.keras.callbacks.EarlyStopping(monitor='val_loss', patience=5)"
      ]
    },
    {
      "cell_type": "markdown",
      "metadata": {
        "id": "UKghEo15Tduy"
      },
      "source": [
        "Run the hyperparameter search. The arguments for the search method are the same as those used for `tf.keras.model.fit` in addition to the callback above."
      ]
    },
    {
      "cell_type": "code",
      "execution_count": 10,
      "metadata": {
        "id": "dSBQcTHF9cKt",
        "outputId": "df436aa2-8365-4a43-c314-07f396ff25a8",
        "colab": {
          "base_uri": "https://localhost:8080/"
        }
      },
      "outputs": [
        {
          "output_type": "stream",
          "name": "stdout",
          "text": [
            "Trial 30 Complete [00h 00m 37s]\n",
            "val_accuracy: 0.8552500009536743\n",
            "\n",
            "Best val_accuracy So Far: 0.8927500247955322\n",
            "Total elapsed time: 00h 10m 00s\n",
            "INFO:tensorflow:Oracle triggered exit\n",
            "\n",
            "The hyperparameter search is complete. The optimal number of units in the first densely-connected\n",
            "layer is 192 and the optimal learning rate for the optimizer\n",
            "is 0.001.\n",
            "\n"
          ]
        }
      ],
      "source": [
        "tuner.search(img_train, label_train, epochs=50, validation_split=0.2, callbacks=[stop_early])\n",
        "\n",
        "# Get the optimal hyperparameters\n",
        "best_hps=tuner.get_best_hyperparameters(num_trials=1)[0]\n",
        "\n",
        "print(f\"\"\"\n",
        "The hyperparameter search is complete. The optimal number of units in the first densely-connected\n",
        "layer is {best_hps.get('units')} and the optimal learning rate for the optimizer\n",
        "is {best_hps.get('learning_rate')}.\n",
        "\"\"\")"
      ]
    },
    {
      "cell_type": "markdown",
      "metadata": {
        "id": "Lak_ylf88xBv"
      },
      "source": [
        "## Train the model\n",
        "\n",
        "Find the optimal number of epochs to train the model with the hyperparameters obtained from the search."
      ]
    },
    {
      "cell_type": "code",
      "execution_count": 11,
      "metadata": {
        "id": "McO82AXOuxXh",
        "outputId": "bd859b05-d595-4f72-ff8f-9d70451a35de",
        "colab": {
          "base_uri": "https://localhost:8080/"
        }
      },
      "outputs": [
        {
          "output_type": "stream",
          "name": "stdout",
          "text": [
            "Epoch 1/50\n",
            "1500/1500 [==============================] - 4s 2ms/step - loss: 0.5098 - accuracy: 0.8220 - val_loss: 0.4053 - val_accuracy: 0.8547\n",
            "Epoch 2/50\n",
            "1500/1500 [==============================] - 4s 2ms/step - loss: 0.3832 - accuracy: 0.8614 - val_loss: 0.3896 - val_accuracy: 0.8514\n",
            "Epoch 3/50\n",
            "1500/1500 [==============================] - 4s 2ms/step - loss: 0.3413 - accuracy: 0.8754 - val_loss: 0.3466 - val_accuracy: 0.8758\n",
            "Epoch 4/50\n",
            "1500/1500 [==============================] - 4s 2ms/step - loss: 0.3155 - accuracy: 0.8839 - val_loss: 0.3310 - val_accuracy: 0.8796\n",
            "Epoch 5/50\n",
            "1500/1500 [==============================] - 4s 2ms/step - loss: 0.2931 - accuracy: 0.8909 - val_loss: 0.3268 - val_accuracy: 0.8813\n",
            "Epoch 6/50\n",
            "1500/1500 [==============================] - 4s 2ms/step - loss: 0.2787 - accuracy: 0.8963 - val_loss: 0.3276 - val_accuracy: 0.8857\n",
            "Epoch 7/50\n",
            "1500/1500 [==============================] - 4s 2ms/step - loss: 0.2650 - accuracy: 0.9003 - val_loss: 0.3353 - val_accuracy: 0.8841\n",
            "Epoch 8/50\n",
            "1500/1500 [==============================] - 4s 2ms/step - loss: 0.2554 - accuracy: 0.9047 - val_loss: 0.3221 - val_accuracy: 0.8859\n",
            "Epoch 9/50\n",
            "1500/1500 [==============================] - 4s 2ms/step - loss: 0.2437 - accuracy: 0.9089 - val_loss: 0.3376 - val_accuracy: 0.8827\n",
            "Epoch 10/50\n",
            "1500/1500 [==============================] - 3s 2ms/step - loss: 0.2352 - accuracy: 0.9114 - val_loss: 0.3082 - val_accuracy: 0.8921\n",
            "Epoch 11/50\n",
            "1500/1500 [==============================] - 4s 2ms/step - loss: 0.2251 - accuracy: 0.9150 - val_loss: 0.3232 - val_accuracy: 0.8876\n",
            "Epoch 12/50\n",
            "1500/1500 [==============================] - 3s 2ms/step - loss: 0.2150 - accuracy: 0.9197 - val_loss: 0.3189 - val_accuracy: 0.8918\n",
            "Epoch 13/50\n",
            "1500/1500 [==============================] - 4s 2ms/step - loss: 0.2095 - accuracy: 0.9205 - val_loss: 0.3031 - val_accuracy: 0.8964\n",
            "Epoch 14/50\n",
            "1500/1500 [==============================] - 3s 2ms/step - loss: 0.2009 - accuracy: 0.9249 - val_loss: 0.3413 - val_accuracy: 0.8864\n",
            "Epoch 15/50\n",
            "1500/1500 [==============================] - 3s 2ms/step - loss: 0.1957 - accuracy: 0.9267 - val_loss: 0.3418 - val_accuracy: 0.8878\n",
            "Epoch 16/50\n",
            "1500/1500 [==============================] - 4s 2ms/step - loss: 0.1884 - accuracy: 0.9299 - val_loss: 0.3406 - val_accuracy: 0.8900\n",
            "Epoch 17/50\n",
            "1500/1500 [==============================] - 3s 2ms/step - loss: 0.1861 - accuracy: 0.9305 - val_loss: 0.3323 - val_accuracy: 0.8898\n",
            "Epoch 18/50\n",
            "1500/1500 [==============================] - 4s 3ms/step - loss: 0.1780 - accuracy: 0.9331 - val_loss: 0.3383 - val_accuracy: 0.8948\n",
            "Epoch 19/50\n",
            "1500/1500 [==============================] - 4s 3ms/step - loss: 0.1726 - accuracy: 0.9349 - val_loss: 0.3388 - val_accuracy: 0.8913\n",
            "Epoch 20/50\n",
            "1500/1500 [==============================] - 4s 2ms/step - loss: 0.1686 - accuracy: 0.9374 - val_loss: 0.3467 - val_accuracy: 0.8902\n",
            "Epoch 21/50\n",
            "1500/1500 [==============================] - 4s 2ms/step - loss: 0.1628 - accuracy: 0.9389 - val_loss: 0.3508 - val_accuracy: 0.8927\n",
            "Epoch 22/50\n",
            "1500/1500 [==============================] - 4s 2ms/step - loss: 0.1595 - accuracy: 0.9408 - val_loss: 0.3885 - val_accuracy: 0.8858\n",
            "Epoch 23/50\n",
            "1500/1500 [==============================] - 3s 2ms/step - loss: 0.1547 - accuracy: 0.9417 - val_loss: 0.3611 - val_accuracy: 0.8927\n",
            "Epoch 24/50\n",
            "1500/1500 [==============================] - 4s 2ms/step - loss: 0.1493 - accuracy: 0.9456 - val_loss: 0.3638 - val_accuracy: 0.8910\n",
            "Epoch 25/50\n",
            "1500/1500 [==============================] - 4s 2ms/step - loss: 0.1460 - accuracy: 0.9451 - val_loss: 0.3685 - val_accuracy: 0.8943\n",
            "Epoch 26/50\n",
            "1500/1500 [==============================] - 4s 2ms/step - loss: 0.1412 - accuracy: 0.9471 - val_loss: 0.3772 - val_accuracy: 0.8926\n",
            "Epoch 27/50\n",
            "1500/1500 [==============================] - 4s 2ms/step - loss: 0.1374 - accuracy: 0.9490 - val_loss: 0.3759 - val_accuracy: 0.8941\n",
            "Epoch 28/50\n",
            "1500/1500 [==============================] - 4s 2ms/step - loss: 0.1346 - accuracy: 0.9491 - val_loss: 0.3920 - val_accuracy: 0.8907\n",
            "Epoch 29/50\n",
            "1500/1500 [==============================] - 4s 2ms/step - loss: 0.1312 - accuracy: 0.9507 - val_loss: 0.3769 - val_accuracy: 0.8949\n",
            "Epoch 30/50\n",
            "1500/1500 [==============================] - 4s 2ms/step - loss: 0.1319 - accuracy: 0.9509 - val_loss: 0.3914 - val_accuracy: 0.8924\n",
            "Epoch 31/50\n",
            "1500/1500 [==============================] - 4s 2ms/step - loss: 0.1256 - accuracy: 0.9540 - val_loss: 0.3981 - val_accuracy: 0.8894\n",
            "Epoch 32/50\n",
            "1500/1500 [==============================] - 4s 2ms/step - loss: 0.1206 - accuracy: 0.9543 - val_loss: 0.4289 - val_accuracy: 0.8835\n",
            "Epoch 33/50\n",
            "1500/1500 [==============================] - 4s 2ms/step - loss: 0.1199 - accuracy: 0.9557 - val_loss: 0.4028 - val_accuracy: 0.8932\n",
            "Epoch 34/50\n",
            "1500/1500 [==============================] - 4s 2ms/step - loss: 0.1166 - accuracy: 0.9561 - val_loss: 0.4176 - val_accuracy: 0.8925\n",
            "Epoch 35/50\n",
            "1500/1500 [==============================] - 4s 2ms/step - loss: 0.1112 - accuracy: 0.9582 - val_loss: 0.4179 - val_accuracy: 0.8923\n",
            "Epoch 36/50\n",
            "1500/1500 [==============================] - 4s 2ms/step - loss: 0.1111 - accuracy: 0.9576 - val_loss: 0.4366 - val_accuracy: 0.8934\n",
            "Epoch 37/50\n",
            "1500/1500 [==============================] - 3s 2ms/step - loss: 0.1087 - accuracy: 0.9587 - val_loss: 0.4556 - val_accuracy: 0.8798\n",
            "Epoch 38/50\n",
            "1500/1500 [==============================] - 4s 2ms/step - loss: 0.1062 - accuracy: 0.9593 - val_loss: 0.4320 - val_accuracy: 0.8909\n",
            "Epoch 39/50\n",
            "1500/1500 [==============================] - 4s 2ms/step - loss: 0.1041 - accuracy: 0.9616 - val_loss: 0.4542 - val_accuracy: 0.8872\n",
            "Epoch 40/50\n",
            "1500/1500 [==============================] - 4s 2ms/step - loss: 0.1006 - accuracy: 0.9627 - val_loss: 0.4435 - val_accuracy: 0.8937\n",
            "Epoch 41/50\n",
            "1500/1500 [==============================] - 4s 2ms/step - loss: 0.0975 - accuracy: 0.9630 - val_loss: 0.4708 - val_accuracy: 0.8893\n",
            "Epoch 42/50\n",
            "1500/1500 [==============================] - 4s 2ms/step - loss: 0.0994 - accuracy: 0.9625 - val_loss: 0.4736 - val_accuracy: 0.8847\n",
            "Epoch 43/50\n",
            "1500/1500 [==============================] - 4s 2ms/step - loss: 0.0941 - accuracy: 0.9657 - val_loss: 0.4692 - val_accuracy: 0.8933\n",
            "Epoch 44/50\n",
            "1500/1500 [==============================] - 4s 2ms/step - loss: 0.0897 - accuracy: 0.9669 - val_loss: 0.4729 - val_accuracy: 0.8848\n",
            "Epoch 45/50\n",
            "1500/1500 [==============================] - 4s 2ms/step - loss: 0.0910 - accuracy: 0.9667 - val_loss: 0.4840 - val_accuracy: 0.8917\n",
            "Epoch 46/50\n",
            "1500/1500 [==============================] - 4s 2ms/step - loss: 0.0893 - accuracy: 0.9666 - val_loss: 0.5097 - val_accuracy: 0.8859\n",
            "Epoch 47/50\n",
            "1500/1500 [==============================] - 4s 2ms/step - loss: 0.0866 - accuracy: 0.9674 - val_loss: 0.4678 - val_accuracy: 0.8903\n",
            "Epoch 48/50\n",
            "1500/1500 [==============================] - 4s 2ms/step - loss: 0.0844 - accuracy: 0.9687 - val_loss: 0.4889 - val_accuracy: 0.8925\n",
            "Epoch 49/50\n",
            "1500/1500 [==============================] - 4s 2ms/step - loss: 0.0836 - accuracy: 0.9691 - val_loss: 0.4790 - val_accuracy: 0.8926\n",
            "Epoch 50/50\n",
            "1500/1500 [==============================] - 4s 2ms/step - loss: 0.0816 - accuracy: 0.9703 - val_loss: 0.5044 - val_accuracy: 0.8882\n",
            "Best epoch: 13\n"
          ]
        }
      ],
      "source": [
        "# Build the model with the optimal hyperparameters and train it on the data for 50 epochs\n",
        "model = tuner.hypermodel.build(best_hps)\n",
        "history = model.fit(img_train, label_train, epochs=50, validation_split=0.2)\n",
        "\n",
        "val_acc_per_epoch = history.history['val_accuracy']\n",
        "best_epoch = val_acc_per_epoch.index(max(val_acc_per_epoch)) + 1\n",
        "print('Best epoch: %d' % (best_epoch,))"
      ]
    },
    {
      "cell_type": "markdown",
      "metadata": {
        "id": "uOTSirSTI3Gp"
      },
      "source": [
        "Re-instantiate the hypermodel and train it with the optimal number of epochs from above."
      ]
    },
    {
      "cell_type": "code",
      "execution_count": 12,
      "metadata": {
        "id": "NoiPUEHmMhCe",
        "outputId": "fc76f681-f1df-48f6-871b-ec72c034faa0",
        "colab": {
          "base_uri": "https://localhost:8080/"
        }
      },
      "outputs": [
        {
          "output_type": "stream",
          "name": "stdout",
          "text": [
            "Epoch 1/13\n",
            "1500/1500 [==============================] - 4s 3ms/step - loss: 0.5112 - accuracy: 0.8210 - val_loss: 0.3926 - val_accuracy: 0.8602\n",
            "Epoch 2/13\n",
            "1500/1500 [==============================] - 3s 2ms/step - loss: 0.3818 - accuracy: 0.8623 - val_loss: 0.3690 - val_accuracy: 0.8678\n",
            "Epoch 3/13\n",
            "1500/1500 [==============================] - 4s 2ms/step - loss: 0.3414 - accuracy: 0.8753 - val_loss: 0.3467 - val_accuracy: 0.8752\n",
            "Epoch 4/13\n",
            "1500/1500 [==============================] - 4s 2ms/step - loss: 0.3140 - accuracy: 0.8836 - val_loss: 0.3561 - val_accuracy: 0.8704\n",
            "Epoch 5/13\n",
            "1500/1500 [==============================] - 4s 2ms/step - loss: 0.2962 - accuracy: 0.8912 - val_loss: 0.3301 - val_accuracy: 0.8815\n",
            "Epoch 6/13\n",
            "1500/1500 [==============================] - 4s 2ms/step - loss: 0.2785 - accuracy: 0.8967 - val_loss: 0.3270 - val_accuracy: 0.8845\n",
            "Epoch 7/13\n",
            "1500/1500 [==============================] - 4s 2ms/step - loss: 0.2640 - accuracy: 0.9019 - val_loss: 0.3454 - val_accuracy: 0.8783\n",
            "Epoch 8/13\n",
            "1500/1500 [==============================] - 4s 2ms/step - loss: 0.2535 - accuracy: 0.9056 - val_loss: 0.3251 - val_accuracy: 0.8875\n",
            "Epoch 9/13\n",
            "1500/1500 [==============================] - 4s 2ms/step - loss: 0.2417 - accuracy: 0.9091 - val_loss: 0.3294 - val_accuracy: 0.8856\n",
            "Epoch 10/13\n",
            "1500/1500 [==============================] - 4s 2ms/step - loss: 0.2330 - accuracy: 0.9129 - val_loss: 0.3696 - val_accuracy: 0.8684\n",
            "Epoch 11/13\n",
            "1500/1500 [==============================] - 4s 2ms/step - loss: 0.2241 - accuracy: 0.9150 - val_loss: 0.3286 - val_accuracy: 0.8885\n",
            "Epoch 12/13\n",
            "1500/1500 [==============================] - 3s 2ms/step - loss: 0.2144 - accuracy: 0.9190 - val_loss: 0.3311 - val_accuracy: 0.8891\n",
            "Epoch 13/13\n",
            "1500/1500 [==============================] - 3s 2ms/step - loss: 0.2110 - accuracy: 0.9208 - val_loss: 0.3468 - val_accuracy: 0.8838\n"
          ]
        },
        {
          "output_type": "execute_result",
          "data": {
            "text/plain": [
              "<keras.callbacks.History at 0x7fadd77647d0>"
            ]
          },
          "metadata": {},
          "execution_count": 12
        }
      ],
      "source": [
        "hypermodel = tuner.hypermodel.build(best_hps)\n",
        "\n",
        "# Retrain the model\n",
        "hypermodel.fit(img_train, label_train, epochs=best_epoch, validation_split=0.2)"
      ]
    },
    {
      "cell_type": "markdown",
      "metadata": {
        "id": "MqU5ZVAaag2v"
      },
      "source": [
        "To finish this tutorial, evaluate the hypermodel on the test data."
      ]
    },
    {
      "cell_type": "code",
      "execution_count": 13,
      "metadata": {
        "id": "9E0BTp9Ealjb",
        "outputId": "dcc76145-20a1-45b7-c557-a4641d4f5975",
        "colab": {
          "base_uri": "https://localhost:8080/"
        }
      },
      "outputs": [
        {
          "output_type": "stream",
          "name": "stdout",
          "text": [
            "313/313 [==============================] - 1s 3ms/step - loss: 0.3782 - accuracy: 0.8782\n",
            "[test loss, test accuracy]: [0.3781741261482239, 0.8781999945640564]\n"
          ]
        }
      ],
      "source": [
        "eval_result = hypermodel.evaluate(img_test, label_test)\n",
        "print(\"[test loss, test accuracy]:\", eval_result)"
      ]
    },
    {
      "cell_type": "markdown",
      "metadata": {
        "id": "EQRpPHZsz-eC"
      },
      "source": [
        "The `my_dir/intro_to_kt` directory contains detailed logs and checkpoints for every trial (model configuration) run during the hyperparameter search. If you re-run the hyperparameter search, the Keras Tuner uses the existing state from these logs to resume the search. To disable this behavior, pass an additional `overwrite=True` argument while instantiating the tuner."
      ]
    },
    {
      "cell_type": "markdown",
      "metadata": {
        "id": "sKwLOzKpFGAj"
      },
      "source": [
        "## Summary\n",
        "\n",
        "In this tutorial, you learned how to use the Keras Tuner to tune hyperparameters for a model. To learn more about the Keras Tuner, check out these additional resources:\n",
        "\n",
        "* [Keras Tuner on the TensorFlow blog](https://blog.tensorflow.org/2020/01/hyperparameter-tuning-with-keras-tuner.html)\n",
        "* [Keras Tuner website](https://keras-team.github.io/keras-tuner/)\n",
        "\n",
        "Also check out the [HParams Dashboard](https://www.tensorflow.org/tensorboard/hyperparameter_tuning_with_hparams) in TensorBoard to interactively tune your model hyperparameters."
      ]
    }
  ],
  "metadata": {
    "accelerator": "GPU",
    "colab": {
      "collapsed_sections": [
        "Tce3stUlHN0L"
      ],
      "name": "keras_tuner.ipynb",
      "toc_visible": true,
      "provenance": []
    },
    "kernelspec": {
      "display_name": "Python 3",
      "name": "python3"
    }
  },
  "nbformat": 4,
  "nbformat_minor": 0
}